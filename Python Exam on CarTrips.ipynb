{
 "cells": [
  {
   "cell_type": "code",
   "execution_count": 41,
   "id": "7f28a9f9",
   "metadata": {},
   "outputs": [],
   "source": [
    "#importing all required libraries\n",
    "import pandas as pd\n",
    "import matplotlib.pyplot as plt\n",
    "import warnings\n",
    "warnings.filterwarnings(\"ignore\")"
   ]
  },
  {
   "cell_type": "code",
   "execution_count": 9,
   "id": "8c3f19b4",
   "metadata": {},
   "outputs": [
    {
     "data": {
      "text/html": [
       "<div>\n",
       "<style scoped>\n",
       "    .dataframe tbody tr th:only-of-type {\n",
       "        vertical-align: middle;\n",
       "    }\n",
       "\n",
       "    .dataframe tbody tr th {\n",
       "        vertical-align: top;\n",
       "    }\n",
       "\n",
       "    .dataframe thead th {\n",
       "        text-align: right;\n",
       "    }\n",
       "</style>\n",
       "<table border=\"1\" class=\"dataframe\">\n",
       "  <thead>\n",
       "    <tr style=\"text-align: right;\">\n",
       "      <th></th>\n",
       "      <th>CarTrips</th>\n",
       "      <th>NonCarTrips</th>\n",
       "    </tr>\n",
       "  </thead>\n",
       "  <tbody>\n",
       "    <tr>\n",
       "      <th>0</th>\n",
       "      <td>89.320</td>\n",
       "      <td>10.750</td>\n",
       "    </tr>\n",
       "    <tr>\n",
       "      <th>1</th>\n",
       "      <td>5.267</td>\n",
       "      <td>14.848</td>\n",
       "    </tr>\n",
       "    <tr>\n",
       "      <th>2</th>\n",
       "      <td>14.301</td>\n",
       "      <td>11.346</td>\n",
       "    </tr>\n",
       "    <tr>\n",
       "      <th>3</th>\n",
       "      <td>18.683</td>\n",
       "      <td>8.723</td>\n",
       "    </tr>\n",
       "    <tr>\n",
       "      <th>4</th>\n",
       "      <td>8.072</td>\n",
       "      <td>9.318</td>\n",
       "    </tr>\n",
       "  </tbody>\n",
       "</table>\n",
       "</div>"
      ],
      "text/plain": [
       "   CarTrips  NonCarTrips\n",
       "0    89.320       10.750\n",
       "1     5.267       14.848\n",
       "2    14.301       11.346\n",
       "3    18.683        8.723\n",
       "4     8.072        9.318"
      ]
     },
     "execution_count": 9,
     "metadata": {},
     "output_type": "execute_result"
    }
   ],
   "source": [
    "df = pd.read_excel(\"TDCA_Q1_Data_.XLSX\", sheet_name=\"Sheet2\")\n",
    "df.head()"
   ]
  },
  {
   "cell_type": "markdown",
   "id": "93de5512",
   "metadata": {},
   "source": [
    "### Question 1"
   ]
  },
  {
   "cell_type": "markdown",
   "id": "452d1b34",
   "metadata": {},
   "source": [
    "#### a)\n",
    "For both CAR and NOCAR data, compute the sample mean, median,\n",
    "standard deviation and skewness (stating which skewness definition\n",
    "or formula you used). Comment on the distribution of the data sets,\n",
    "referring both to the histogram and summary statistics. "
   ]
  },
  {
   "cell_type": "code",
   "execution_count": 10,
   "id": "cc6273cd",
   "metadata": {},
   "outputs": [
    {
     "data": {
      "text/html": [
       "<div>\n",
       "<style scoped>\n",
       "    .dataframe tbody tr th:only-of-type {\n",
       "        vertical-align: middle;\n",
       "    }\n",
       "\n",
       "    .dataframe tbody tr th {\n",
       "        vertical-align: top;\n",
       "    }\n",
       "\n",
       "    .dataframe thead th {\n",
       "        text-align: right;\n",
       "    }\n",
       "</style>\n",
       "<table border=\"1\" class=\"dataframe\">\n",
       "  <thead>\n",
       "    <tr style=\"text-align: right;\">\n",
       "      <th></th>\n",
       "      <th>CarTrips</th>\n",
       "      <th>NonCarTrips</th>\n",
       "    </tr>\n",
       "  </thead>\n",
       "  <tbody>\n",
       "    <tr>\n",
       "      <th>count</th>\n",
       "      <td>101.000000</td>\n",
       "      <td>81.000000</td>\n",
       "    </tr>\n",
       "    <tr>\n",
       "      <th>mean</th>\n",
       "      <td>11.720594</td>\n",
       "      <td>8.299543</td>\n",
       "    </tr>\n",
       "    <tr>\n",
       "      <th>std</th>\n",
       "      <td>9.883022</td>\n",
       "      <td>3.901166</td>\n",
       "    </tr>\n",
       "    <tr>\n",
       "      <th>min</th>\n",
       "      <td>1.914000</td>\n",
       "      <td>0.000000</td>\n",
       "    </tr>\n",
       "    <tr>\n",
       "      <th>25%</th>\n",
       "      <td>6.416000</td>\n",
       "      <td>5.913000</td>\n",
       "    </tr>\n",
       "    <tr>\n",
       "      <th>50%</th>\n",
       "      <td>9.374000</td>\n",
       "      <td>7.254000</td>\n",
       "    </tr>\n",
       "    <tr>\n",
       "      <th>75%</th>\n",
       "      <td>14.301000</td>\n",
       "      <td>10.451000</td>\n",
       "    </tr>\n",
       "    <tr>\n",
       "      <th>max</th>\n",
       "      <td>89.320000</td>\n",
       "      <td>25.530000</td>\n",
       "    </tr>\n",
       "  </tbody>\n",
       "</table>\n",
       "</div>"
      ],
      "text/plain": [
       "         CarTrips  NonCarTrips\n",
       "count  101.000000    81.000000\n",
       "mean    11.720594     8.299543\n",
       "std      9.883022     3.901166\n",
       "min      1.914000     0.000000\n",
       "25%      6.416000     5.913000\n",
       "50%      9.374000     7.254000\n",
       "75%     14.301000    10.451000\n",
       "max     89.320000    25.530000"
      ]
     },
     "execution_count": 10,
     "metadata": {},
     "output_type": "execute_result"
    }
   ],
   "source": [
    "df.describe()"
   ]
  },
  {
   "cell_type": "code",
   "execution_count": 13,
   "id": "bf21f160",
   "metadata": {},
   "outputs": [
    {
     "data": {
      "text/plain": [
       "array([[<AxesSubplot:title={'center':'CarTrips'}>,\n",
       "        <AxesSubplot:title={'center':'NonCarTrips'}>]], dtype=object)"
      ]
     },
     "execution_count": 13,
     "metadata": {},
     "output_type": "execute_result"
    },
    {
     "data": {
      "image/png": "[encoded data removed]",
      "text/plain": [
       "<Figure size 640x480 with 2 Axes>"
      ]
     },
     "metadata": {},
     "output_type": "display_data"
    }
   ],
   "source": [
    "df.hist()"
   ]
  },
  {
   "cell_type": "markdown",
   "id": "655955c0",
   "metadata": {},
   "source": [
    "The data CarTrips data is distributed abnormally with most data aligning between 0 and 20 whilie some other data is distributed along 80 to 100. On the other hand, the NonCarTrips data is normally distributed since it has a symetric shape along with most data concentrated around the mean.\n",
    "The mean of the CarTrips data is 11.720594\twhile that of the NonCarTrips data is 8.299543.\n",
    "The formula used in this exploration is the hist() formula of the pandas library which is used to create histograms of all the columns in the dataframe, in this case 2. The descriptive statistics on the other hand, were produced by calling the describe() function of the pandas dataframe which produces statistical data on the dataset."
   ]
  },
  {
   "cell_type": "markdown",
   "id": "2fdc74e9",
   "metadata": {},
   "source": [
    "### b\n",
    "Do there appear to be any outliers or erroneous data points? If yes,\n",
    "explain how you identified them and why such observations might\n",
    "have been recorded. Remove them from the data and re-compute the\n",
    "summary statistics before continuing to the remainder of the question"
   ]
  },
  {
   "cell_type": "code",
   "execution_count": 15,
   "id": "568a983e",
   "metadata": {},
   "outputs": [],
   "source": [
    "import scipy.stats as stats"
   ]
  },
  {
   "cell_type": "code",
   "execution_count": 20,
   "id": "e1bce395",
   "metadata": {},
   "outputs": [],
   "source": [
    "df.isna().sum()\n",
    "df = df.dropna() # remove missing values"
   ]
  },
  {
   "cell_type": "code",
   "execution_count": 33,
   "id": "49b83554",
   "metadata": {},
   "outputs": [
    {
     "data": {
      "text/html": [
       "<div>\n",
       "<style scoped>\n",
       "    .dataframe tbody tr th:only-of-type {\n",
       "        vertical-align: middle;\n",
       "    }\n",
       "\n",
       "    .dataframe tbody tr th {\n",
       "        vertical-align: top;\n",
       "    }\n",
       "\n",
       "    .dataframe thead th {\n",
       "        text-align: right;\n",
       "    }\n",
       "</style>\n",
       "<table border=\"1\" class=\"dataframe\">\n",
       "  <thead>\n",
       "    <tr style=\"text-align: right;\">\n",
       "      <th></th>\n",
       "      <th>CarTrips</th>\n",
       "      <th>NonCarTrips</th>\n",
       "    </tr>\n",
       "  </thead>\n",
       "  <tbody>\n",
       "    <tr>\n",
       "      <th>0</th>\n",
       "      <td>7.546395</td>\n",
       "      <td>0.632048</td>\n",
       "    </tr>\n",
       "    <tr>\n",
       "      <th>61</th>\n",
       "      <td>-0.342302</td>\n",
       "      <td>4.444265</td>\n",
       "    </tr>\n",
       "  </tbody>\n",
       "</table>\n",
       "</div>"
      ],
      "text/plain": [
       "    CarTrips  NonCarTrips\n",
       "0   7.546395     0.632048\n",
       "61 -0.342302     4.444265"
      ]
     },
     "execution_count": 33,
     "metadata": {},
     "output_type": "execute_result"
    }
   ],
   "source": [
    "dfzscore = stats.zscore(df)\n",
    "df1 = dfzscore.loc[(dfzscore['CarTrips'] > 3) | (dfzscore['NonCarTrips']> 3)] #selecting outliers where zscore is more than threshold\n",
    "df1 # the outliers\n",
    "# dfzscore"
   ]
  },
  {
   "cell_type": "code",
   "execution_count": 35,
   "id": "b67244e1",
   "metadata": {},
   "outputs": [
    {
     "data": {
      "text/html": [
       "<div>\n",
       "<style scoped>\n",
       "    .dataframe tbody tr th:only-of-type {\n",
       "        vertical-align: middle;\n",
       "    }\n",
       "\n",
       "    .dataframe tbody tr th {\n",
       "        vertical-align: top;\n",
       "    }\n",
       "\n",
       "    .dataframe thead th {\n",
       "        text-align: right;\n",
       "    }\n",
       "</style>\n",
       "<table border=\"1\" class=\"dataframe\">\n",
       "  <thead>\n",
       "    <tr style=\"text-align: right;\">\n",
       "      <th></th>\n",
       "      <th>CarTrips</th>\n",
       "      <th>NonCarTrips</th>\n",
       "    </tr>\n",
       "  </thead>\n",
       "  <tbody>\n",
       "    <tr>\n",
       "      <th>0</th>\n",
       "      <td>89.320</td>\n",
       "      <td>10.750</td>\n",
       "    </tr>\n",
       "    <tr>\n",
       "      <th>1</th>\n",
       "      <td>5.267</td>\n",
       "      <td>14.848</td>\n",
       "    </tr>\n",
       "    <tr>\n",
       "      <th>2</th>\n",
       "      <td>14.301</td>\n",
       "      <td>11.346</td>\n",
       "    </tr>\n",
       "    <tr>\n",
       "      <th>3</th>\n",
       "      <td>18.683</td>\n",
       "      <td>8.723</td>\n",
       "    </tr>\n",
       "    <tr>\n",
       "      <th>4</th>\n",
       "      <td>8.072</td>\n",
       "      <td>9.318</td>\n",
       "    </tr>\n",
       "    <tr>\n",
       "      <th>...</th>\n",
       "      <td>...</td>\n",
       "      <td>...</td>\n",
       "    </tr>\n",
       "    <tr>\n",
       "      <th>76</th>\n",
       "      <td>6.782</td>\n",
       "      <td>5.745</td>\n",
       "    </tr>\n",
       "    <tr>\n",
       "      <th>77</th>\n",
       "      <td>26.865</td>\n",
       "      <td>4.554</td>\n",
       "    </tr>\n",
       "    <tr>\n",
       "      <th>78</th>\n",
       "      <td>6.416</td>\n",
       "      <td>9.414</td>\n",
       "    </tr>\n",
       "    <tr>\n",
       "      <th>79</th>\n",
       "      <td>12.611</td>\n",
       "      <td>4.190</td>\n",
       "    </tr>\n",
       "    <tr>\n",
       "      <th>80</th>\n",
       "      <td>9.374</td>\n",
       "      <td>6.869</td>\n",
       "    </tr>\n",
       "  </tbody>\n",
       "</table>\n",
       "<p>81 rows × 2 columns</p>\n",
       "</div>"
      ],
      "text/plain": [
       "    CarTrips  NonCarTrips\n",
       "0     89.320       10.750\n",
       "1      5.267       14.848\n",
       "2     14.301       11.346\n",
       "3     18.683        8.723\n",
       "4      8.072        9.318\n",
       "..       ...          ...\n",
       "76     6.782        5.745\n",
       "77    26.865        4.554\n",
       "78     6.416        9.414\n",
       "79    12.611        4.190\n",
       "80     9.374        6.869\n",
       "\n",
       "[81 rows x 2 columns]"
      ]
     },
     "execution_count": 35,
     "metadata": {},
     "output_type": "execute_result"
    }
   ],
   "source": [
    "# Remove the outliers\n",
    "df1 = df.loc[(dfzscore['CarTrips'] <= 3) | (dfzscore['NonCarTrips']<= 3)] #selecting outliers where zscore is less than threshold\n",
    "df1"
   ]
  },
  {
   "cell_type": "markdown",
   "id": "912d7a35",
   "metadata": {},
   "source": [
    "From the observation above, the dataset has outliers. That is, the distance of each data point from the mean of the dataset in terms of standard deviation is more than 3 for 76 records. The last block of code removes the outliers by ensuring all the datapoints have a zscore that is smaller than the threashold, which is 3 in this case."
   ]
  },
  {
   "cell_type": "markdown",
   "id": "f96b8e0b",
   "metadata": {},
   "source": [
    "### Descriptive statistics After removing outliers"
   ]
  },
  {
   "cell_type": "code",
   "execution_count": 36,
   "id": "8cf53d94",
   "metadata": {},
   "outputs": [
    {
     "data": {
      "text/html": [
       "<div>\n",
       "<style scoped>\n",
       "    .dataframe tbody tr th:only-of-type {\n",
       "        vertical-align: middle;\n",
       "    }\n",
       "\n",
       "    .dataframe tbody tr th {\n",
       "        vertical-align: top;\n",
       "    }\n",
       "\n",
       "    .dataframe thead th {\n",
       "        text-align: right;\n",
       "    }\n",
       "</style>\n",
       "<table border=\"1\" class=\"dataframe\">\n",
       "  <thead>\n",
       "    <tr style=\"text-align: right;\">\n",
       "      <th></th>\n",
       "      <th>CarTrips</th>\n",
       "      <th>NonCarTrips</th>\n",
       "    </tr>\n",
       "  </thead>\n",
       "  <tbody>\n",
       "    <tr>\n",
       "      <th>count</th>\n",
       "      <td>81.000000</td>\n",
       "      <td>81.000000</td>\n",
       "    </tr>\n",
       "    <tr>\n",
       "      <th>mean</th>\n",
       "      <td>11.891148</td>\n",
       "      <td>8.299543</td>\n",
       "    </tr>\n",
       "    <tr>\n",
       "      <th>std</th>\n",
       "      <td>10.324305</td>\n",
       "      <td>3.901166</td>\n",
       "    </tr>\n",
       "    <tr>\n",
       "      <th>min</th>\n",
       "      <td>1.914000</td>\n",
       "      <td>0.000000</td>\n",
       "    </tr>\n",
       "    <tr>\n",
       "      <th>25%</th>\n",
       "      <td>7.210000</td>\n",
       "      <td>5.913000</td>\n",
       "    </tr>\n",
       "    <tr>\n",
       "      <th>50%</th>\n",
       "      <td>9.884000</td>\n",
       "      <td>7.254000</td>\n",
       "    </tr>\n",
       "    <tr>\n",
       "      <th>75%</th>\n",
       "      <td>13.837000</td>\n",
       "      <td>10.451000</td>\n",
       "    </tr>\n",
       "    <tr>\n",
       "      <th>max</th>\n",
       "      <td>89.320000</td>\n",
       "      <td>25.530000</td>\n",
       "    </tr>\n",
       "  </tbody>\n",
       "</table>\n",
       "</div>"
      ],
      "text/plain": [
       "        CarTrips  NonCarTrips\n",
       "count  81.000000    81.000000\n",
       "mean   11.891148     8.299543\n",
       "std    10.324305     3.901166\n",
       "min     1.914000     0.000000\n",
       "25%     7.210000     5.913000\n",
       "50%     9.884000     7.254000\n",
       "75%    13.837000    10.451000\n",
       "max    89.320000    25.530000"
      ]
     },
     "execution_count": 36,
     "metadata": {},
     "output_type": "execute_result"
    }
   ],
   "source": [
    "df1.describe()"
   ]
  },
  {
   "cell_type": "markdown",
   "id": "e9ca5e14",
   "metadata": {},
   "source": [
    "The summary shows a mean of 11.89 on Cartrips and 8.299 on NonCarTrips"
   ]
  },
  {
   "cell_type": "markdown",
   "id": "5a1a7d49",
   "metadata": {},
   "source": [
    "### c\n",
    "Estimate a 95% confidence interval for the true mean commuting\n",
    "distance by CAR (you do not need to estimate for NOCAR). State any\n",
    "assumptions you make and explain the relevance of the central limit\n",
    "theorem. "
   ]
  },
  {
   "cell_type": "code",
   "execution_count": 37,
   "id": "feab325d",
   "metadata": {},
   "outputs": [],
   "source": [
    "from scipy import stats\n",
    "import numpy as np"
   ]
  },
  {
   "cell_type": "code",
   "execution_count": 42,
   "id": "a7fe36a2",
   "metadata": {},
   "outputs": [
    {
     "name": "stdout",
     "output_type": "stream",
     "text": [
      "95% Confidence interval:  (9.608256938253753, 14.174039358042556)\n"
     ]
    }
   ],
   "source": [
    "# Estimate 95% confidence interval on the true mean\n",
    "confidence_interval = stats.t.interval(alpha = 0.95,              # Confidence level\n",
    "                                      df = len(df1) - 1,       # Degrees of freedom\n",
    "                                      loc = np.mean(df1['CarTrips']),      # Sample mean\n",
    "                                      scale = stats.sem(df1['CarTrips']))  # Standard error of the mean\n",
    "\n",
    "print(\"95% Confidence interval: \", confidence_interval)"
   ]
  },
  {
   "cell_type": "markdown",
   "id": "cd0e6a1a",
   "metadata": {},
   "source": [
    "The output of the above block is a tuple of two values representing the lower and upper bounds of the 95% confidence interval on the true mean. The assumptions made when calculating the 95% confidence interval on the true mean are:\n",
    "i) Independence: The data points in the sample should be independent of each other. This means that the value of one data point should not affect the value of another data point.\n",
    "\n",
    "ii) Normality: The data should be approximately normally distributed. This assumption is necessary to use the t-distribution to estimate the confidence interval."
   ]
  },
  {
   "cell_type": "markdown",
   "id": "205279c0",
   "metadata": {},
   "source": [
    "### d\n",
    "Use a statistical test to decide whether these data give evidence that\n",
    "the mean commuting distance by car is different from the mean\n",
    "commuting distance by other modes. State any assumptions you make. Interpret your findings to be understandable by an intelligent\n",
    "non-expert."
   ]
  },
  {
   "cell_type": "code",
   "execution_count": 43,
   "id": "5a8dbb2f",
   "metadata": {},
   "outputs": [
    {
     "name": "stdout",
     "output_type": "stream",
     "text": [
      "T-Statistic:  2.928794889123745\n",
      "P-Value:  0.00389989205591096\n"
     ]
    }
   ],
   "source": [
    "# Perform two-sample t-test\n",
    "t_stat, p_value = stats.ttest_ind(df1['CarTrips'], df1['NonCarTrips'])\n",
    "\n",
    "print(\"T-Statistic: \", t_stat)\n",
    "print(\"P-Value: \", p_value)"
   ]
  },
  {
   "cell_type": "markdown",
   "id": "2e4c7800",
   "metadata": {},
   "source": [
    "The t-statistic is a measure of the difference between the means of the two groups. The p-value is the probability of obtaining a t-statistic as extreme or more extreme than the one calculated, under the assumption that the means of the two groups are equal.\n",
    "The low p-value (0.003) indicates that there is strong evidence to suggest that the means of the two groups are different."
   ]
  },
  {
   "cell_type": "markdown",
   "id": "7a49984a",
   "metadata": {},
   "source": [
    "## Question 2\n",
    "An attitudinal survey was conducted among peak-time rail commuters arriving in Leeds\n",
    "and in Manchester, to understand their views on levels of crowding on services following\n",
    "the lifting of Covid-19 restrictions. The resulting data are provided in the “TDCA OTLA Jan\n",
    "2023 Attitudinal survey.xlsx” file.\n",
    "### a)\n",
    "Use a suitable test to determine whether the attitudes appear to be\n",
    "independent of the location (i.e. whether arriving in Leeds or\n",
    "Manchester)."
   ]
  },
  {
   "cell_type": "code",
   "execution_count": 61,
   "id": "0a45f4e8",
   "metadata": {},
   "outputs": [
    {
     "data": {
      "text/html": [
       "<div>\n",
       "<style scoped>\n",
       "    .dataframe tbody tr th:only-of-type {\n",
       "        vertical-align: middle;\n",
       "    }\n",
       "\n",
       "    .dataframe tbody tr th {\n",
       "        vertical-align: top;\n",
       "    }\n",
       "\n",
       "    .dataframe thead th {\n",
       "        text-align: right;\n",
       "    }\n",
       "</style>\n",
       "<table border=\"1\" class=\"dataframe\">\n",
       "  <thead>\n",
       "    <tr style=\"text-align: right;\">\n",
       "      <th></th>\n",
       "      <th>Unnamed: 0</th>\n",
       "      <th>Over-crowded</th>\n",
       "      <th>Busy but not over-crowded</th>\n",
       "      <th>Lightly crowded</th>\n",
       "      <th>Not crowded</th>\n",
       "    </tr>\n",
       "  </thead>\n",
       "  <tbody>\n",
       "    <tr>\n",
       "      <th>0</th>\n",
       "      <td>Leeds</td>\n",
       "      <td>29</td>\n",
       "      <td>23</td>\n",
       "      <td>13</td>\n",
       "      <td>2</td>\n",
       "    </tr>\n",
       "    <tr>\n",
       "      <th>1</th>\n",
       "      <td>Manchester</td>\n",
       "      <td>91</td>\n",
       "      <td>45</td>\n",
       "      <td>9</td>\n",
       "      <td>6</td>\n",
       "    </tr>\n",
       "  </tbody>\n",
       "</table>\n",
       "</div>"
      ],
      "text/plain": [
       "   Unnamed: 0  Over-crowded  Busy but not over-crowded  Lightly crowded  \\\n",
       "0       Leeds            29                         23               13   \n",
       "1  Manchester            91                         45                9   \n",
       "\n",
       "   Not crowded  \n",
       "0            2  \n",
       "1            6  "
      ]
     },
     "execution_count": 61,
     "metadata": {},
     "output_type": "execute_result"
    }
   ],
   "source": [
    "df = pd.read_excel(\"TDCA OTLA Jan 2023 Attitudinal survey.xlsx\")\n",
    "df.head()"
   ]
  },
  {
   "cell_type": "code",
   "execution_count": 62,
   "id": "b83642ba",
   "metadata": {},
   "outputs": [
    {
     "data": {
      "text/html": [
       "<div>\n",
       "<style scoped>\n",
       "    .dataframe tbody tr th:only-of-type {\n",
       "        vertical-align: middle;\n",
       "    }\n",
       "\n",
       "    .dataframe tbody tr th {\n",
       "        vertical-align: top;\n",
       "    }\n",
       "\n",
       "    .dataframe thead th {\n",
       "        text-align: right;\n",
       "    }\n",
       "</style>\n",
       "<table border=\"1\" class=\"dataframe\">\n",
       "  <thead>\n",
       "    <tr style=\"text-align: right;\">\n",
       "      <th></th>\n",
       "      <th>Location</th>\n",
       "      <th>Over-crowded</th>\n",
       "      <th>Busy but not over-crowded</th>\n",
       "      <th>Lightly crowded</th>\n",
       "      <th>Not crowded</th>\n",
       "    </tr>\n",
       "  </thead>\n",
       "  <tbody>\n",
       "    <tr>\n",
       "      <th>0</th>\n",
       "      <td>Leeds</td>\n",
       "      <td>29</td>\n",
       "      <td>23</td>\n",
       "      <td>13</td>\n",
       "      <td>2</td>\n",
       "    </tr>\n",
       "    <tr>\n",
       "      <th>1</th>\n",
       "      <td>Manchester</td>\n",
       "      <td>91</td>\n",
       "      <td>45</td>\n",
       "      <td>9</td>\n",
       "      <td>6</td>\n",
       "    </tr>\n",
       "  </tbody>\n",
       "</table>\n",
       "</div>"
      ],
      "text/plain": [
       "     Location  Over-crowded  Busy but not over-crowded  Lightly crowded  \\\n",
       "0       Leeds            29                         23               13   \n",
       "1  Manchester            91                         45                9   \n",
       "\n",
       "   Not crowded  \n",
       "0            2  \n",
       "1            6  "
      ]
     },
     "execution_count": 62,
     "metadata": {},
     "output_type": "execute_result"
    }
   ],
   "source": [
    "list(df)\n",
    "df.rename(columns ={\"Unnamed: 0\": 'Location'}, inplace=True) # renaming the column\n",
    "df.head()"
   ]
  },
  {
   "cell_type": "code",
   "execution_count": 63,
   "id": "485a33f5",
   "metadata": {},
   "outputs": [
    {
     "data": {
      "text/html": [
       "<div>\n",
       "<style scoped>\n",
       "    .dataframe tbody tr th:only-of-type {\n",
       "        vertical-align: middle;\n",
       "    }\n",
       "\n",
       "    .dataframe tbody tr th {\n",
       "        vertical-align: top;\n",
       "    }\n",
       "\n",
       "    .dataframe thead th {\n",
       "        text-align: right;\n",
       "    }\n",
       "</style>\n",
       "<table border=\"1\" class=\"dataframe\">\n",
       "  <thead>\n",
       "    <tr style=\"text-align: right;\">\n",
       "      <th></th>\n",
       "      <th>Location</th>\n",
       "      <th>Over-crowded</th>\n",
       "      <th>Busy but not over-crowded</th>\n",
       "      <th>Lightly crowded</th>\n",
       "      <th>Not crowded</th>\n",
       "    </tr>\n",
       "  </thead>\n",
       "  <tbody>\n",
       "    <tr>\n",
       "      <th>0</th>\n",
       "      <td>-10</td>\n",
       "      <td>29</td>\n",
       "      <td>23</td>\n",
       "      <td>13</td>\n",
       "      <td>2</td>\n",
       "    </tr>\n",
       "    <tr>\n",
       "      <th>1</th>\n",
       "      <td>10</td>\n",
       "      <td>91</td>\n",
       "      <td>45</td>\n",
       "      <td>9</td>\n",
       "      <td>6</td>\n",
       "    </tr>\n",
       "  </tbody>\n",
       "</table>\n",
       "</div>"
      ],
      "text/plain": [
       "   Location  Over-crowded  Busy but not over-crowded  Lightly crowded  \\\n",
       "0       -10            29                         23               13   \n",
       "1        10            91                         45                9   \n",
       "\n",
       "   Not crowded  \n",
       "0            2  \n",
       "1            6  "
      ]
     },
     "execution_count": 63,
     "metadata": {},
     "output_type": "execute_result"
    }
   ],
   "source": [
    "df['Location'] = df.apply(lambda x: 10 if x['Location'] == 'Manchester' else (-10), axis =1 )\n",
    "df"
   ]
  },
  {
   "cell_type": "code",
   "execution_count": 64,
   "id": "4e4feaf2",
   "metadata": {},
   "outputs": [
    {
     "data": {
      "text/html": [
       "<div>\n",
       "<style scoped>\n",
       "    .dataframe tbody tr th:only-of-type {\n",
       "        vertical-align: middle;\n",
       "    }\n",
       "\n",
       "    .dataframe tbody tr th {\n",
       "        vertical-align: top;\n",
       "    }\n",
       "\n",
       "    .dataframe thead th {\n",
       "        text-align: right;\n",
       "    }\n",
       "</style>\n",
       "<table border=\"1\" class=\"dataframe\">\n",
       "  <thead>\n",
       "    <tr style=\"text-align: right;\">\n",
       "      <th></th>\n",
       "      <th>Location</th>\n",
       "      <th>Over-crowded</th>\n",
       "      <th>Busy but not over-crowded</th>\n",
       "      <th>Lightly crowded</th>\n",
       "      <th>Not crowded</th>\n",
       "    </tr>\n",
       "  </thead>\n",
       "  <tbody>\n",
       "    <tr>\n",
       "      <th>Location</th>\n",
       "      <td>1.0</td>\n",
       "      <td>1.0</td>\n",
       "      <td>1.0</td>\n",
       "      <td>-1.0</td>\n",
       "      <td>1.0</td>\n",
       "    </tr>\n",
       "    <tr>\n",
       "      <th>Over-crowded</th>\n",
       "      <td>1.0</td>\n",
       "      <td>1.0</td>\n",
       "      <td>1.0</td>\n",
       "      <td>-1.0</td>\n",
       "      <td>1.0</td>\n",
       "    </tr>\n",
       "    <tr>\n",
       "      <th>Busy but not over-crowded</th>\n",
       "      <td>1.0</td>\n",
       "      <td>1.0</td>\n",
       "      <td>1.0</td>\n",
       "      <td>-1.0</td>\n",
       "      <td>1.0</td>\n",
       "    </tr>\n",
       "    <tr>\n",
       "      <th>Lightly crowded</th>\n",
       "      <td>-1.0</td>\n",
       "      <td>-1.0</td>\n",
       "      <td>-1.0</td>\n",
       "      <td>1.0</td>\n",
       "      <td>-1.0</td>\n",
       "    </tr>\n",
       "    <tr>\n",
       "      <th>Not crowded</th>\n",
       "      <td>1.0</td>\n",
       "      <td>1.0</td>\n",
       "      <td>1.0</td>\n",
       "      <td>-1.0</td>\n",
       "      <td>1.0</td>\n",
       "    </tr>\n",
       "  </tbody>\n",
       "</table>\n",
       "</div>"
      ],
      "text/plain": [
       "                           Location  Over-crowded  Busy but not over-crowded  \\\n",
       "Location                        1.0           1.0                        1.0   \n",
       "Over-crowded                    1.0           1.0                        1.0   \n",
       "Busy but not over-crowded       1.0           1.0                        1.0   \n",
       "Lightly crowded                -1.0          -1.0                       -1.0   \n",
       "Not crowded                     1.0           1.0                        1.0   \n",
       "\n",
       "                           Lightly crowded  Not crowded  \n",
       "Location                              -1.0          1.0  \n",
       "Over-crowded                          -1.0          1.0  \n",
       "Busy but not over-crowded             -1.0          1.0  \n",
       "Lightly crowded                        1.0         -1.0  \n",
       "Not crowded                           -1.0          1.0  "
      ]
     },
     "execution_count": 64,
     "metadata": {},
     "output_type": "execute_result"
    }
   ],
   "source": [
    "df.corr() "
   ]
  },
  {
   "cell_type": "markdown",
   "id": "d337af97",
   "metadata": {},
   "source": [
    "The code above shows the correlation of the variables in the attitudinal survey data in Manchester and Leeds. An observation that a strong relation exist between attitudes and location."
   ]
  },
  {
   "cell_type": "code",
   "execution_count": 67,
   "id": "02604b4a",
   "metadata": {},
   "outputs": [
    {
     "data": {
      "text/plain": [
       "['Over-crowded', 'Busy but not over-crowded', 'Lightly crowded', 'Not crowded']"
      ]
     },
     "execution_count": 67,
     "metadata": {},
     "output_type": "execute_result"
    }
   ],
   "source": [
    "from scipy import stats\n",
    "cols = list(df)\n",
    "cols.remove('Location')\n",
    "cols"
   ]
  },
  {
   "cell_type": "code",
   "execution_count": 69,
   "id": "054e48a4",
   "metadata": {},
   "outputs": [
    {
     "name": "stdout",
     "output_type": "stream",
     "text": [
      "Chi-Square Statistic:  0.0\n",
      "P-Value:  1.0\n"
     ]
    }
   ],
   "source": [
    "\n",
    "# Perform chi-square test of independence\n",
    "chi2, p, dof, expected = stats.chi2_contingency(pd.crosstab(df['Location'], df['Over-crowded']))\n",
    "\n",
    "print(\"Chi-Square Statistic: \", chi2)\n",
    "print(\"P-Value: \", p)"
   ]
  },
  {
   "cell_type": "markdown",
   "id": "7c1b736c",
   "metadata": {},
   "source": [
    "After carrying out the chi-squared statistic, a p-value of 1 was obtained. This means that there is not enough that the overcrowding is dependent on the location."
   ]
  },
  {
   "cell_type": "markdown",
   "id": "cf94c484",
   "metadata": {},
   "source": [
    "### b)\n",
    "Identify any potential problems with applying the test in 2(a) and\n",
    "suggest a resolution (you do not need to repeat the test).\n"
   ]
  },
  {
   "cell_type": "markdown",
   "id": "842e3598",
   "metadata": {},
   "source": [
    "1) Weak association: If the variables being tested have a weak association, the chi-square statistic will be low and the p-value will be high, indicating that there is not enough evidence to suggest that the variables are dependent.\n",
    "\n",
    "2) Violation of assumptions: The chi-square test assumes that the sample size of each cell is large enough and the variables are independent. If these assumptions are not met, the chi-square test may not be appropriate and the p-value may not be accurate.\n",
    "\n",
    "3) Multiple testing: When performing multiple chi-square tests, the chance of obtaining a false positive (i.e. rejecting the null hypothesis when it is true) increases. To account for this, you can use a correction for multiple testing, such as the Bonferroni correction, which adjusts the p-value threshold for the number of tests performed.\n",
    "\n",
    "4) The sample size is not large enough to detect the difference between observed and expected frequencies, in this case, the chi-square statistic will be low and the p-value will be high, indicating that there is not enough evidence to suggest that the variables are dependent.\n",
    "\n"
   ]
  },
  {
   "cell_type": "markdown",
   "id": "c84dc27a",
   "metadata": {},
   "source": [
    "## Question 3"
   ]
  },
  {
   "cell_type": "markdown",
   "id": "540e0b06",
   "metadata": {},
   "source": [
    "Results from the 2021 Leeds travel to work survey showed that over 35% of the\n",
    "respondents travel to work by car with a single occupant, while less than 10% use buses\n",
    "as their main transport mode. Leeds City Council (LCC) is considering investing to\n",
    "improve the performance of the bus network in the city and wants to know which\n",
    "improvements (e.g. in reliability, headway and/or network coverage) are more urgently\n",
    "needed. To fulfil this task, you are asked to:\n",
    "### a)\n",
    "Devise a data collection plan that details the data to be collected, and\n",
    "what would be the most appropriate method(s) to collect it. "
   ]
  },
  {
   "cell_type": "markdown",
   "id": "31eb025f",
   "metadata": {},
   "source": [
    "The following data collection plan is suggested in order to aid in improving performance\n",
    "1) Research question: The aim of this research is to collect enough data about the vehicles and the buses in order to come up with a better and reliable network coverage in the transport sector.\n",
    "\n",
    "2) Sampling design: The sampling design should be outlined, including the sample size, sampling method, and the criteria for inclusion and exclusion. The sampling design will involve use of CCTV footages to record the number of vehicles accessing all the roads. This data will be esential. A large dataset should be collected of around 2000 vehicles in different locations and their time of accessing the roads. \n",
    "\n",
    "3) Data Collection method: The primary data source should be used. That is, the data should be obtained directly from video capture by the CCTV footages along the roads. Their time of capture should also be recorded and also whether it's a bus or a personal car. In facilitation to this process, A software should be integrated in the CCTV server rooms that is able to categorize vehicles as either personal cars or buses and store their records in a database. Preferably a cloud storage so that all systems could be linked together and the retrieval of the data be made easier and accessible from a single point.\n"
   ]
  },
  {
   "cell_type": "markdown",
   "id": "b194b142",
   "metadata": {},
   "source": [
    "### b)\n",
    "How would you analyse the data, and how can the results from your\n",
    "analysis be used by LCC? Specify statistical techniques relevant to your\n",
    "proposed analysis."
   ]
  },
  {
   "cell_type": "markdown",
   "id": "39302d32",
   "metadata": {},
   "source": [
    "This data will be analyzed using python programming language which offers many libraries that aid in the field of statistical analysis. The data captured would consist of; days of the week, date, type of vehicle, speed of vehicle,  location/road where captured, time of day, and whether incoming or outgoing (the direction the captured vehicles were moving).\n",
    "The statistical techniques will involve:\n",
    "i) grouping of data - this is where data will be grouped by time and roads to facilitate analysis of usage per roads at particular hours.\n",
    "ii) Standardization of the data and scaling it so that all records in a certain road are averaged and computed according to the min and max of the data.\n",
    "iii) Correlation in order to find the significance of the variables to the target variable 'number-of-vehicles'.\n",
    "iv) Use of a histogram and time series to visualize the roads usage.\n",
    "v) Machine learning techniques to identify the conditions that bring about high/low traffic in Leeds.\n"
   ]
  },
  {
   "cell_type": "markdown",
   "id": "f31eb98a",
   "metadata": {},
   "source": [
    "### c) \n",
    "Discuss how the limitations of the data collection techniques in your plan\n",
    "could affect the data quality and your analysis."
   ]
  },
  {
   "cell_type": "markdown",
   "id": "34c7d75e",
   "metadata": {},
   "source": [
    "One limitation of the data collection technique is that the traffic may be congested and hence the software failing to identify the difference between personal vehicles and the buses. Another limitation may be data overflow or failure of the system while performing multiple classification using image recognition techniques which will lead to loss of data hence leading to data bias."
   ]
  },
  {
   "cell_type": "markdown",
   "id": "ee126acf",
   "metadata": {},
   "source": [
    "## Question 4\n",
    "A large UK city is facing serious congestion and air quality issues and the council decides\n",
    "to run a data collection to better understand how people commute, with the aim of\n",
    "designing informed policies to encourage more sustainable mobility in the area. They have\n",
    "decided to run a survey and have formulated the following survey question.\n",
    "\n",
    "What transport modes do you use for commuting?\n",
    "o Car/Van\n",
    "o Bike\n",
    "o Bus\n",
    "o Scooter\n",
    "o Carpoo"
   ]
  },
  {
   "cell_type": "markdown",
   "id": "999f7e5f",
   "metadata": {},
   "source": [
    "### a) \n",
    "Is this a good survey question? If not, why? How would you improve\n",
    "it? Explain your answer"
   ]
  },
  {
   "cell_type": "markdown",
   "id": "22a7580a",
   "metadata": {},
   "source": [
    "This question is vague since the quantity was not included in the question. The question can be improved by asking how often someone uses each or any of the transport methods per month/week. This way, the council can analyze the data more precisely since most people use a number of transport modes though not at the same scale"
   ]
  },
  {
   "cell_type": "markdown",
   "id": "8bc8bb3c",
   "metadata": {},
   "source": [
    "### b) \n",
    "What other information should the council collect as part of this\n",
    "survey? Explain your answer."
   ]
  },
  {
   "cell_type": "markdown",
   "id": "a592f8f6",
   "metadata": {},
   "source": [
    "The council should also include questions about whether the interviewee owns any of the transport modes. If so how often do they use it and how many people use it for commuting. This information can be used to come up with a plan or regulation after conducting analysis such that the people living in UK city could be warned against using different vehicles for transportation if they come from same location or homestead. This could largely reduce the traffic in the city of UK."
   ]
  },
  {
   "cell_type": "markdown",
   "id": "e61a8cca",
   "metadata": {},
   "source": [
    "### c)\n",
    "Propose a data collection protocol for this survey, including a target\n",
    "population, recruitment strategy, modality of data collection, bias\n",
    "limitation strategy, incentives, and timeline."
   ]
  },
  {
   "cell_type": "markdown",
   "id": "a14aa41d",
   "metadata": {},
   "source": [
    "The data collection protocol that could be used in this survey could include distributing physical questionaires to a group of people at public meeting points such as restaurants, and picnic points. Moreover, a more suitable form of collection could be through network providers by providing forms such as google forms and giving tokens or to those who participate in order to encourage more participants. Social media could also be used to distribute links to online forms. For example, sharing of forms via Whatsapp and Twitter trends and facebook in order to reach more masses."
   ]
  },
  {
   "cell_type": "code",
   "execution_count": null,
   "id": "989affcb",
   "metadata": {},
   "outputs": [],
   "source": []
  }
 ],
 "metadata": {
  "kernelspec": {
   "display_name": "Python 3 (ipykernel)",
   "language": "python",
   "name": "python3"
  },
  "language_info": {
   "codemirror_mode": {
    "name": "ipython",
    "version": 3
   },
   "file_extension": ".py",
   "mimetype": "text/x-python",
   "name": "python",
   "nbconvert_exporter": "python",
   "pygments_lexer": "ipython3",
   "version": "3.9.13"
  }
 },
 "nbformat": 4,
 "nbformat_minor": 5
}
